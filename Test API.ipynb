{
 "cells": [
  {
   "cell_type": "markdown",
   "id": "4f98d4f1-8486-4cc6-9c44-10048fcf7918",
   "metadata": {},
   "source": [
    "# Test API"
   ]
  },
  {
   "cell_type": "markdown",
   "id": "58ffd1e8-0815-4fab-bd92-0fb5af5ae95d",
   "metadata": {},
   "source": [
    "### imports"
   ]
  },
  {
   "cell_type": "code",
   "execution_count": 33,
   "id": "82b969b6-bd2d-4be1-aa6b-4363187bcd01",
   "metadata": {},
   "outputs": [],
   "source": [
    "import requests\n",
    "import json"
   ]
  },
  {
   "cell_type": "markdown",
   "id": "7a540758-da1b-4ca2-bc15-aa9102a13780",
   "metadata": {},
   "source": [
    "### Local API"
   ]
  },
  {
   "cell_type": "code",
   "execution_count": 142,
   "id": "072aba8e-3b85-4baf-ab72-44400b38e052",
   "metadata": {},
   "outputs": [
    {
     "name": "stdout",
     "output_type": "stream",
     "text": [
      "{\"predictions\":[1]}\n"
     ]
    }
   ],
   "source": [
    "from io import BytesIO\n",
    "import requests\n",
    "import os\n",
    "\n",
    "url = \"http://127.0.0.1:8000/classify\"\n",
    "full_path = '/Users/karlboma/Desktop/Screenshot 2025-01-24 at 7.48.22 PM.png'\n",
    "\n",
    "with open(full_path, 'rb') as image_file:\n",
    "    files = {\"file\": (\"image.png\", image_file, \"image/png\")}\n",
    "    response = requests.post(url, files=files)\n",
    "print(response.text)"
   ]
  },
  {
   "cell_type": "markdown",
   "id": "9010a69f-18be-4087-9af4-452e3a30f533",
   "metadata": {},
   "source": [
    "### (Local) Docker API"
   ]
  },
  {
   "cell_type": "code",
   "execution_count": 155,
   "id": "ec360866-f3c1-4fb6-a547-262a10c8d7a2",
   "metadata": {},
   "outputs": [
    {
     "name": "stdout",
     "output_type": "stream",
     "text": [
      "{\"health_check\":\"OK\"}\n"
     ]
    }
   ],
   "source": [
    "url = 'http://0.0.0.0:80/'\n",
    "response = requests.get(url)\n",
    "print(response.text)"
   ]
  },
  {
   "cell_type": "code",
   "execution_count": 159,
   "id": "a93dd2f2-6252-40ec-869e-be729a694a14",
   "metadata": {},
   "outputs": [
    {
     "name": "stdout",
     "output_type": "stream",
     "text": [
      "{\"predictions\":[1]}\n"
     ]
    }
   ],
   "source": [
    "url = 'http://0.0.0.0:80/classify'\n",
    "full_path = '/Users/karlboma/Desktop/Screenshot 2025-01-24 at 7.48.22 PM.png'\n",
    "\n",
    "with open(full_path, 'rb') as image_file:\n",
    "    files = {\"file\": (\"image.png\", image_file, \"image/png\")}\n",
    "    response = requests.post(url, files=files)\n",
    "print(response.text)"
   ]
  },
  {
   "cell_type": "code",
   "execution_count": null,
   "id": "cc62034f-4b9c-4693-9663-76f25d295200",
   "metadata": {},
   "outputs": [],
   "source": []
  }
 ],
 "metadata": {
  "kernelspec": {
   "display_name": "Python 3 (ipykernel)",
   "language": "python",
   "name": "python3"
  },
  "language_info": {
   "codemirror_mode": {
    "name": "ipython",
    "version": 3
   },
   "file_extension": ".py",
   "mimetype": "text/x-python",
   "name": "python",
   "nbconvert_exporter": "python",
   "pygments_lexer": "ipython3",
   "version": "3.12.2"
  }
 },
 "nbformat": 4,
 "nbformat_minor": 5
}
