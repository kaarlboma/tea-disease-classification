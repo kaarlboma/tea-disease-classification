{
 "cells": [
  {
   "cell_type": "markdown",
   "id": "4f98d4f1-8486-4cc6-9c44-10048fcf7918",
   "metadata": {},
   "source": [
    "# Test API"
   ]
  },
  {
   "cell_type": "markdown",
   "id": "58ffd1e8-0815-4fab-bd92-0fb5af5ae95d",
   "metadata": {},
   "source": [
    "### imports"
   ]
  },
  {
   "cell_type": "code",
   "execution_count": 33,
   "id": "82b969b6-bd2d-4be1-aa6b-4363187bcd01",
   "metadata": {},
   "outputs": [],
   "source": [
    "import requests\n",
    "import json"
   ]
  },
  {
   "cell_type": "markdown",
   "id": "7a540758-da1b-4ca2-bc15-aa9102a13780",
   "metadata": {},
   "source": [
    "### Local API"
   ]
  },
  {
   "cell_type": "code",
   "execution_count": 142,
   "id": "072aba8e-3b85-4baf-ab72-44400b38e052",
   "metadata": {},
   "outputs": [
    {
     "name": "stdout",
     "output_type": "stream",
     "text": [
      "{\"predictions\":[1]}\n"
     ]
    }
   ],
   "source": [
    "from io import BytesIO\n",
    "import requests\n",
    "import os\n",
    "\n",
    "url = \"http://127.0.0.1:8000/classify\"\n",
    "full_path = '/Users/karlboma/Desktop/Screenshot 2025-01-24 at 7.48.22 PM.png'\n",
    "\n",
    "with open(full_path, 'rb') as image_file:\n",
    "    files = {\"file\": (\"image.png\", image_file, \"image/png\")}\n",
    "    response = requests.post(url, files=files)\n",
    "print(response.text)"
   ]
  },
  {
   "cell_type": "code",
   "execution_count": 126,
   "id": "1101953a-20e5-47fc-9199-c6aee101c0ee",
   "metadata": {},
   "outputs": [
    {
     "name": "stdout",
     "output_type": "stream",
     "text": [
      "['.DS_Store', 'Screen Recording 2025-01-24 at 12.44.13\\u202fPM.mov', '.localized', 'Screenshot 2025-01-24 at 7.48.22\\u202fPM.png']\n"
     ]
    }
   ],
   "source": [
    "import os\n",
    "desktop_path = os.path.expanduser('~/Desktop')\n",
    "print(os.listdir(desktop_path))"
   ]
  },
  {
   "cell_type": "code",
   "execution_count": 132,
   "id": "b12b728c-7c52-45fc-91c5-9d2bd35748f2",
   "metadata": {},
   "outputs": [],
   "source": [
    "from PIL import Image\n",
    "from io import BytesIO\n",
    "\n",
    "def image_to_bytes(image_path: str) -> bytes:\n",
    "    # Open the image using PIL\n",
    "    img = Image.open(image_path)\n",
    "    \n",
    "    # Create a BytesIO object\n",
    "    img_byte_arr = BytesIO()\n",
    "    \n",
    "    # Save the image to the BytesIO object in the desired format (e.g., JPEG, PNG)\n",
    "    img.save(img_byte_arr, format='PNG')  # Change format if needed\n",
    "    \n",
    "    # Get the byte data from the BytesIO object\n",
    "    img_byte_arr.seek(0)  # Go to the beginning of the BytesIO object\n",
    "    img_bytes = img_byte_arr.read()\n",
    "    \n",
    "    return img_bytes\n",
    "\n",
    "contents = image_to_bytes('/Users/karlboma/Desktop/Screenshot 2025-01-24 at 7.48.22 PM.png')"
   ]
  },
  {
   "cell_type": "code",
   "execution_count": 74,
   "id": "4dce970d-a117-4ba5-ad52-7d7768f2c468",
   "metadata": {},
   "outputs": [],
   "source": [
    "from io import BytesIO\n",
    "from PIL import Image\n",
    "\n",
    "# Sample raw bytes (replace with actual file content)\n",
    "\n",
    "# Test BytesIO and Image open\n",
    "img = Image.open(BytesIO(contents))\n",
    "img.show()"
   ]
  },
  {
   "cell_type": "code",
   "execution_count": null,
   "id": "96db924b-c132-4c04-8d30-b7a04d74e6b5",
   "metadata": {},
   "outputs": [],
   "source": [
    "from PIL import Image\n",
    "import numpy as np\n",
    "\n",
    "def image_to_array(file: bytes):\n",
    "    # Open the image from the binary file content\n",
    "    img = Image.open(BytesIO(file)).resize((100, 100))\n",
    "    if img.mode != 'RGB':\n",
    "        img = img.convert('RGB')\n",
    "    # Convert the image to a NumPy array, flatten it, and reshape\n",
    "    return np.array(img).flatten().reshape(1, -1)"
   ]
  }
 ],
 "metadata": {
  "kernelspec": {
   "display_name": "Python 3 (ipykernel)",
   "language": "python",
   "name": "python3"
  },
  "language_info": {
   "codemirror_mode": {
    "name": "ipython",
    "version": 3
   },
   "file_extension": ".py",
   "mimetype": "text/x-python",
   "name": "python",
   "nbconvert_exporter": "python",
   "pygments_lexer": "ipython3",
   "version": "3.12.2"
  }
 },
 "nbformat": 4,
 "nbformat_minor": 5
}
